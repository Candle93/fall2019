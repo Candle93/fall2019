{
 "cells": [
  {
   "cell_type": "markdown",
   "metadata": {},
   "source": [
    "Before you turn this problem in, make sure everything runs as expected. First, **restart the kernel** (in the menubar, select Kernel$\\rightarrow$Restart) and then **run all cells** (in the menubar, select Cell$\\rightarrow$Run All).\n",
    "\n",
    "Make sure you fill in any place that says `YOUR CODE HERE` or \"YOUR ANSWER HERE\"."
   ]
  },
  {
   "cell_type": "markdown",
   "metadata": {
    "deletable": false,
    "editable": false,
    "nbgrader": {
     "checksum": "4aa90c5b5bd1d1dd8a5970a9b52a1360",
     "grade": false,
     "grade_id": "cell-f83bb58b03292578",
     "locked": true,
     "schema_version": 1,
     "solution": false
    }
   },
   "source": [
    "# Week7 Assignment - Regression.\n",
    "\n",
    "For this assignment, you will use the Ames housing dataset. The basic goal of this assignment is to predict housing prices for houses in Ames, Iowa.\n",
    "\n",
    "In the first component, you will load the training dataset and convert it into a Pandas dataframe.\n",
    "\n",
    "In the second component, you will plot the data. This component is ungraded.\n",
    "\n",
    "In the third component, you will preprocess the data.\n",
    "\n",
    "In the fourth component, you will split your data for training and testing.\n",
    "\n",
    "In the fifth component, you will build and evaluate your model on the test data.\n",
    "\n",
    "All the exercises are designed so that the solutions will need only one or a few lines of code.\n",
    "\n",
    "Do not hesitate to contact instuctors and TA via #week7 channel on Slack if you get stuck. Join the channel first by clicking on Channels."
   ]
  },
  {
   "cell_type": "markdown",
   "metadata": {
    "deletable": false,
    "editable": false,
    "nbgrader": {
     "checksum": "55d8a6d1a5cb0b44fca4b63216f00a9f",
     "grade": false,
     "grade_id": "cell-f6b1a85538f737d8",
     "locked": true,
     "schema_version": 1,
     "solution": false
    }
   },
   "source": [
    "## Part A. Read in the Ames dataset. \n",
    "\n",
    "In this component you will read the Ames housing dataset into a Pandas data frame. This dataset contains samples of Ames houses, with multiple features. The value we want to predict is the cost of given house.\n",
    "\n",
    "Make sure you download the ames_train.csv file from the course website. Do not manually modify the ames datasets.\n",
    "\n",
    "Save to a data frame named ames_data."
   ]
  },
  {
   "cell_type": "code",
   "execution_count": 92,
   "metadata": {
    "deletable": false,
    "nbgrader": {
     "checksum": "f251ad673c30a4e8a637c64bba3718ad",
     "grade": false,
     "grade_id": "cell-c1e7f79ad332b8f9",
     "locked": false,
     "schema_version": 1,
     "solution": true
    }
   },
   "outputs": [
    {
     "name": "stdout",
     "output_type": "stream",
     "text": [
      "   Id  MSSubClass MSZoning  LotFrontage  LotArea Street Alley LotShape  \\\n",
      "0   1          60       RL         65.0     8450   Pave   NaN      Reg   \n",
      "1   2          20       RL         80.0     9600   Pave   NaN      Reg   \n",
      "2   3          60       RL         68.0    11250   Pave   NaN      IR1   \n",
      "3   4          70       RL         60.0     9550   Pave   NaN      IR1   \n",
      "4   5          60       RL         84.0    14260   Pave   NaN      IR1   \n",
      "\n",
      "  LandContour Utilities    ...     PoolArea PoolQC Fence MiscFeature MiscVal  \\\n",
      "0         Lvl    AllPub    ...            0    NaN   NaN         NaN       0   \n",
      "1         Lvl    AllPub    ...            0    NaN   NaN         NaN       0   \n",
      "2         Lvl    AllPub    ...            0    NaN   NaN         NaN       0   \n",
      "3         Lvl    AllPub    ...            0    NaN   NaN         NaN       0   \n",
      "4         Lvl    AllPub    ...            0    NaN   NaN         NaN       0   \n",
      "\n",
      "  MoSold YrSold  SaleType  SaleCondition  SalePrice  \n",
      "0      2   2008        WD         Normal     208500  \n",
      "1      5   2007        WD         Normal     181500  \n",
      "2      9   2008        WD         Normal     223500  \n",
      "3      2   2006        WD        Abnorml     140000  \n",
      "4     12   2008        WD         Normal     250000  \n",
      "\n",
      "[5 rows x 81 columns]\n"
     ]
    }
   ],
   "source": [
    "import pandas as pd\n",
    "import numpy as np\n",
    "\n",
    "# Load the ames dataset into a pandas dataframe\n",
    "# Make sure to save as \"ames_data\"\n",
    "\n",
    "# YOUR CODE HERE\n",
    "ames_data = pd.read_csv(\"ames_train.csv\")\n",
    "\n",
    "# You can make sure you loaded it correctly by looking at its first few rows, using the .head() function\n",
    "print(ames_data.head())"
   ]
  },
  {
   "cell_type": "code",
   "execution_count": 93,
   "metadata": {
    "deletable": false,
    "editable": false,
    "nbgrader": {
     "checksum": "215ad7e14acd9852cfab98cb4aa83907",
     "grade": true,
     "grade_id": "cell-fd50146eeead0c65",
     "locked": true,
     "points": 1,
     "schema_version": 1,
     "solution": false
    }
   },
   "outputs": [],
   "source": [
    "assert isinstance(ames_data, pd.core.frame.DataFrame)\n",
    "assert ames_data.shape == (1460, 81)\n",
    "assert ames_data[\"1stFlrSF\"].sum() == 1697435\n",
    "assert ames_data[\"2ndFlrSF\"].sum() == 506609\n",
    "assert ames_data.isnull().sum().sum() == 6965"
   ]
  },
  {
   "cell_type": "markdown",
   "metadata": {},
   "source": [
    "## Part B. Plot the data.\n",
    "Now that we've loaded the data, let's take a look at some features.\n",
    "\n",
    "Perhaps naively, you think that the best predictors for house prices are the square footage values (\"1stFlrSF\", \"2ndFlrSF\").\n",
    "\n",
    "Go ahead and plot a histogram of each, to get an idea of their distributions. See if you see anything interesting.\n",
    "\n",
    "Following this, maybe try to get feel of the relationship between each of these and our target (\"SalePrice\", the house prices). Plot a scatter plot with SalePrice on the Y axis and 1stFlrSF on the X axis. Does it look like it may be a good predictor? What about 2ndFlrSF?\n",
    "\n",
    "What about the sum of the two? Plot a scatter plot with SalePrice on the Y axis and the sum of 1stFlrSF and 2ndFlrSF on the X axis."
   ]
  },
  {
   "cell_type": "code",
   "execution_count": 94,
   "metadata": {},
   "outputs": [
    {
     "data": {
      "text/plain": [
       "<matplotlib.axes._subplots.AxesSubplot at 0x121828898>"
      ]
     },
     "execution_count": 94,
     "metadata": {},
     "output_type": "execute_result"
    },
    {
     "data": {
      "image/png": "[encoded data removed]",
      "text/plain": [
       "<matplotlib.figure.Figure at 0x1218310f0>"
      ]
     },
     "metadata": {},
     "output_type": "display_data"
    }
   ],
   "source": [
    "import matplotlib.pyplot as plt\n",
    "%matplotlib inline\n",
    "\n",
    "ames_data[\"SalePrice\"].hist()"
   ]
  },
  {
   "cell_type": "code",
   "execution_count": 106,
   "metadata": {},
   "outputs": [
    {
     "data": {
      "text/plain": [
       "<matplotlib.axes._subplots.AxesSubplot at 0x10c600208>"
      ]
     },
     "execution_count": 106,
     "metadata": {},
     "output_type": "execute_result"
    },
    {
     "data": {
      "image/png": "[encoded data removed]",
      "text/plain": [
       "<matplotlib.figure.Figure at 0x12231eac8>"
      ]
     },
     "metadata": {},
     "output_type": "display_data"
    }
   ],
   "source": [
    "ames_data[\"sqft_sum\"] = ames_data[\"1stFlrSF\"] + ames_data[\"2ndFlrSF\"]\n",
    "ames_data.drop(ames_data.query(\"SalePrice < 300000 & sqft_sum > 4000\").index, inplace=True)\n",
    "ames_data.plot.scatter(\"sqft_sum\", \"SalePrice\")\n",
    "# SalePrice on the Y axis and the sum of 1stFlrSF and 2ndFlrSF\n"
   ]
  },
  {
   "cell_type": "markdown",
   "metadata": {},
   "source": [
    "## Part C. Preprocess the data.\n",
    "\n",
    "It looks like the sum of 1stFlrSF and 2ndFlrSF may be good predictors.\n",
    "\n",
    "Create a new column, named sqft_sum, that contains the summation of these two.\n",
    "\n",
    "Look at the scatter plot of sqft_sum on the X axis and SalePrice on the Y axis. Note that it appears that there are two outliers: houses that are large but sold for very cheap. It may be a good choice to remove these, as it appears that they may have sold for much less than they are worth.\n",
    "\n",
    "**Important note**: Whether or not to drop outliers is a debatable topic. Namely, it depends what you are trying to do and what the outliers represent. Wrongly treating outliers can bias your data. If you know the outliers are in error, or you know that they are not important to your goals, you can drop them. However, sometimes you will want to examine why they are outliers, what they are telling you. In our example, you may want to figure out WHY these houses sold for less than they are worth. E.g. Are they in a particularly loud neighborhood? Once we know that we can decide whether or not to include them. As stated in class, preprocessing is a very subjective phase. For the homework assignment, however, we will drop both of these outliers.\n",
    "\n",
    "To summarize, in the next cell you need to:\n",
    "1. Create a new column, sqft_sum, that is equal to the sum of the columns 1stFlrSF and 2ndFlrSF.\n",
    "2. Remove the two clear outliers. If you plot the data (sqft_sum on X axis, SalePrice on Y axis), you should see them clearly in the plot. They are the two houses that appear to have been sold for much less than other houses in the same size range."
   ]
  },
  {
   "cell_type": "code",
   "execution_count": 107,
   "metadata": {
    "deletable": false,
    "nbgrader": {
     "checksum": "b8c473ef6be903b0d4b8e506a60fd3f8",
     "grade": false,
     "grade_id": "cell-8d46731c6bc218b6",
     "locked": false,
     "schema_version": 1,
     "solution": true
    }
   },
   "outputs": [
    {
     "data": {
      "text/plain": [
       "(1458, 82)"
      ]
     },
     "execution_count": 107,
     "metadata": {},
     "output_type": "execute_result"
    }
   ],
   "source": [
    "# YOUR CODE HERE\n",
    "ames_data\n",
    "\n",
    "ames_data.shape\n",
    "\n",
    "# Once you've altered ames_data, you can go ahead and replot the scatter plot to see if you indeed removed the data\n",
    "# points you intended to remove."
   ]
  },
  {
   "cell_type": "code",
   "execution_count": 109,
   "metadata": {
    "deletable": false,
    "editable": false,
    "nbgrader": {
     "checksum": "8a412fad2d72990a23aef7332232e925",
     "grade": true,
     "grade_id": "cell-c7edebc7b2cd1c7b",
     "locked": true,
     "points": 1,
     "schema_version": 1,
     "solution": false
    }
   },
   "outputs": [],
   "source": [
    "assert ames_data.shape == (1458, 82)\n",
    "assert \"sqft_sum\" in ames_data.columns\n",
    "assert ames_data[\"sqft_sum\"].sum() == 2193726"
   ]
  },
  {
   "cell_type": "markdown",
   "metadata": {},
   "source": [
    "## Part D. Split our data for evaluation.\n",
    "\n",
    "We've loaded our data, plotted it to see what it looks like, and preprocessed it.\n",
    "\n",
    "It's time to train and evaluate our model. At this stage, we will be evaluating based on a test set we create by splitting the data in two.\n",
    "\n",
    "The features you will be using are: sqft_sum and Fireplaces (the number of fireplaces in the house).\n",
    "\n",
    "Below, you will set X to equal the ames_data with only the two columns we are interested in (sqft_sum and Fireplaces), and y to equal the ames_data SalePrice column (what we are trying to predict). Then, you will run the code below to split the data into training and test."
   ]
  },
  {
   "cell_type": "code",
   "execution_count": 88,
   "metadata": {
    "deletable": false,
    "nbgrader": {
     "checksum": "dcfb938ff4cb32f1989a830132e43eb4",
     "grade": false,
     "grade_id": "cell-377e7ae405383f99",
     "locked": false,
     "schema_version": 1,
     "solution": true
    }
   },
   "outputs": [
    {
     "name": "stdout",
     "output_type": "stream",
     "text": [
      "195895060\n"
     ]
    }
   ],
   "source": [
    "from sklearn.model_selection import train_test_split\n",
    "\n",
    "# YOUR CODE HERE\n",
    "X = ames_data.filter([\"sqft_sum\", \"Fireplaces\"])\n",
    "y = ames_data[\"SalePrice\"] \n",
    "\n",
    "# print(X.shape)\n",
    "# Now we will split your data into training and test, for evaluation\n",
    "# Note the function below\n",
    "X_train, X_test, y_train, y_test = train_test_split(X, y, test_size = 0.25, random_state=12323)\n",
    "print(y_train.sum())"
   ]
  },
  {
   "cell_type": "code",
   "execution_count": 15,
   "metadata": {
    "deletable": false,
    "editable": false,
    "nbgrader": {
     "checksum": "61275bf714418ecf661121dd4de8f019",
     "grade": true,
     "grade_id": "cell-fd44161086b39a45",
     "locked": true,
     "points": 1,
     "schema_version": 1,
     "solution": false
    }
   },
   "outputs": [
    {
     "ename": "AssertionError",
     "evalue": "",
     "output_type": "error",
     "traceback": [
      "\u001b[0;31m---------------------------------------------------------------------------\u001b[0m",
      "\u001b[0;31mAssertionError\u001b[0m                            Traceback (most recent call last)",
      "\u001b[0;32m<ipython-input-15-71eff7309b3f>\u001b[0m in \u001b[0;36m<module>\u001b[0;34m()\u001b[0m\n\u001b[0;32m----> 1\u001b[0;31m \u001b[0;32massert\u001b[0m \u001b[0mX_train\u001b[0m\u001b[0;34m.\u001b[0m\u001b[0mshape\u001b[0m \u001b[0;34m==\u001b[0m \u001b[0;34m(\u001b[0m\u001b[0;36m1093\u001b[0m\u001b[0;34m,\u001b[0m \u001b[0;36m2\u001b[0m\u001b[0;34m)\u001b[0m\u001b[0;34m\u001b[0m\u001b[0m\n\u001b[0m\u001b[1;32m      2\u001b[0m \u001b[0;32massert\u001b[0m \u001b[0mX_test\u001b[0m\u001b[0;34m.\u001b[0m\u001b[0mshape\u001b[0m \u001b[0;34m==\u001b[0m \u001b[0;34m(\u001b[0m\u001b[0;36m365\u001b[0m\u001b[0;34m,\u001b[0m \u001b[0;36m2\u001b[0m\u001b[0;34m)\u001b[0m\u001b[0;34m\u001b[0m\u001b[0m\n\u001b[1;32m      3\u001b[0m \u001b[0;32massert\u001b[0m \u001b[0my_train\u001b[0m\u001b[0;34m.\u001b[0m\u001b[0msum\u001b[0m\u001b[0;34m(\u001b[0m\u001b[0;34m)\u001b[0m \u001b[0;34m==\u001b[0m \u001b[0;36m196281710\u001b[0m\u001b[0;34m\u001b[0m\u001b[0m\n",
      "\u001b[0;31mAssertionError\u001b[0m: "
     ]
    }
   ],
   "source": [
    "assert X_train.shape == (1093, 2)\n",
    "assert X_test.shape == (365, 2)\n",
    "assert y_train.sum() == 196281710"
   ]
  },
  {
   "cell_type": "markdown",
   "metadata": {},
   "source": [
    "## Part E. Build and evaluate a linear regression model.\n",
    "Build a linear regression model based on the X_train data. Name the model *lr*.\n",
    "\n",
    "Once the model is built, predict the SalePrice for the test set X_test. Name the predictions *y_preds*.\n",
    "\n",
    "Calculate the RMSE between y_preds and y_test. Name the RMSE *rmse*.\n",
    "\n",
    "\n",
    "Hints:\n",
    "* Use sklearn's LinearRegression function to fit a model.\n",
    "* Use sklearn's mean_squared_error to evaluate the model."
   ]
  },
  {
   "cell_type": "code",
   "execution_count": 80,
   "metadata": {
    "deletable": false,
    "nbgrader": {
     "checksum": "9e1f048e424a1457baadd109065745b5",
     "grade": false,
     "grade_id": "cell-b3bd68da8483ec11",
     "locked": false,
     "schema_version": 1,
     "solution": true
    }
   },
   "outputs": [
    {
     "name": "stdout",
     "output_type": "stream",
     "text": [
      "67939059.28511554\n"
     ]
    }
   ],
   "source": [
    "from sklearn.linear_model import LinearRegression\n",
    "from sklearn.metrics import mean_squared_error\n",
    "import math\n",
    "\n",
    "lr = LinearRegression()\n",
    "lr.fit(X_train, y_train)\n",
    "y_preds = lr.predict(X_test)\n",
    "print(y_preds.sum())\n",
    "rmse = math.sqrt(mean_squared_error(y_preds, y_test))"
   ]
  },
  {
   "cell_type": "code",
   "execution_count": 79,
   "metadata": {
    "deletable": false,
    "editable": false,
    "nbgrader": {
     "checksum": "b4f2c8b72cc0e603ad8a0a4c84fa5508",
     "grade": true,
     "grade_id": "cell-346d5411d0d8d874",
     "locked": true,
     "points": 1,
     "schema_version": 1,
     "solution": false
    }
   },
   "outputs": [
    {
     "ename": "AssertionError",
     "evalue": "",
     "output_type": "error",
     "traceback": [
      "\u001b[0;31m---------------------------------------------------------------------------\u001b[0m",
      "\u001b[0;31mAssertionError\u001b[0m                            Traceback (most recent call last)",
      "\u001b[0;32m<ipython-input-79-f1f87e39273a>\u001b[0m in \u001b[0;36m<module>\u001b[0;34m()\u001b[0m\n\u001b[1;32m      1\u001b[0m \u001b[0;32massert\u001b[0m \u001b[0misinstance\u001b[0m\u001b[0;34m(\u001b[0m\u001b[0mlr\u001b[0m\u001b[0;34m,\u001b[0m \u001b[0mLinearRegression\u001b[0m\u001b[0;34m)\u001b[0m\u001b[0;34m\u001b[0m\u001b[0m\n\u001b[0;32m----> 2\u001b[0;31m \u001b[0;32massert\u001b[0m \u001b[0mnp\u001b[0m\u001b[0;34m.\u001b[0m\u001b[0misclose\u001b[0m\u001b[0;34m(\u001b[0m\u001b[0my_preds\u001b[0m\u001b[0;34m.\u001b[0m\u001b[0msum\u001b[0m\u001b[0;34m(\u001b[0m\u001b[0;34m)\u001b[0m\u001b[0;34m,\u001b[0m \u001b[0;36m67114985.983310223\u001b[0m\u001b[0;34m)\u001b[0m\u001b[0;34m\u001b[0m\u001b[0m\n\u001b[0m\u001b[1;32m      3\u001b[0m \u001b[0;32massert\u001b[0m \u001b[0mnp\u001b[0m\u001b[0;34m.\u001b[0m\u001b[0misclose\u001b[0m\u001b[0;34m(\u001b[0m\u001b[0mrmse\u001b[0m\u001b[0;34m,\u001b[0m \u001b[0;36m53444.9760401\u001b[0m\u001b[0;34m)\u001b[0m\u001b[0;34m\u001b[0m\u001b[0m\n",
      "\u001b[0;31mAssertionError\u001b[0m: "
     ]
    }
   ],
   "source": [
    "assert isinstance(lr, LinearRegression)\n",
    "assert np.isclose(y_preds.sum(), 67114985.983310223)\n",
    "assert np.isclose(rmse, 53444.9760401)"
   ]
  },
  {
   "cell_type": "code",
   "execution_count": null,
   "metadata": {},
   "outputs": [],
   "source": []
  }
 ],
 "metadata": {
  "kernelspec": {
   "display_name": "Python 3",
   "language": "python",
   "name": "python3"
  },
  "language_info": {
   "codemirror_mode": {
    "name": "ipython",
    "version": 3
   },
   "file_extension": ".py",
   "mimetype": "text/x-python",
   "name": "python",
   "nbconvert_exporter": "python",
   "pygments_lexer": "ipython3",
   "version": "3.6.3"
  }
 },
 "nbformat": 4,
 "nbformat_minor": 2
}
